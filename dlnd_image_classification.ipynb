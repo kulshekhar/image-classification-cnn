{
 "cells": [
  {
   "cell_type": "markdown",
   "metadata": {
    "collapsed": true,
    "deletable": true,
    "editable": true
   },
   "source": [
    "# Image Classification\n",
    "In this project, you'll classify images from the [CIFAR-10 dataset](https://www.cs.toronto.edu/~kriz/cifar.html).  The dataset consists of airplanes, dogs, cats, and other objects. You'll preprocess the images, then train a convolutional neural network on all the samples. The images need to be normalized and the labels need to be one-hot encoded.  You'll get to apply what you learned and build a convolutional, max pooling, dropout, and fully connected layers.  At the end, you'll get to see your neural network's predictions on the sample images.\n",
    "## Get the Data\n",
    "Run the following cell to download the [CIFAR-10 dataset for python](https://www.cs.toronto.edu/~kriz/cifar-10-python.tar.gz)."
   ]
  },
  {
   "cell_type": "code",
   "execution_count": 1,
   "metadata": {
    "collapsed": false,
    "deletable": true,
    "editable": true
   },
   "outputs": [
    {
     "name": "stdout",
     "output_type": "stream",
     "text": [
      "All files found!\n"
     ]
    }
   ],
   "source": [
    "\"\"\"\n",
    "DON'T MODIFY ANYTHING IN THIS CELL THAT IS BELOW THIS LINE\n",
    "\"\"\"\n",
    "from urllib.request import urlretrieve\n",
    "from os.path import isfile, isdir\n",
    "from tqdm import tqdm\n",
    "import problem_unittests as tests\n",
    "import tarfile\n",
    "\n",
    "cifar10_dataset_folder_path = 'cifar-10-batches-py'\n",
    "\n",
    "class DLProgress(tqdm):\n",
    "    last_block = 0\n",
    "\n",
    "    def hook(self, block_num=1, block_size=1, total_size=None):\n",
    "        self.total = total_size\n",
    "        self.update((block_num - self.last_block) * block_size)\n",
    "        self.last_block = block_num\n",
    "\n",
    "if not isfile('cifar-10-python.tar.gz'):\n",
    "    with DLProgress(unit='B', unit_scale=True, miniters=1, desc='CIFAR-10 Dataset') as pbar:\n",
    "        urlretrieve(\n",
    "            'https://www.cs.toronto.edu/~kriz/cifar-10-python.tar.gz',\n",
    "            'cifar-10-python.tar.gz',\n",
    "            pbar.hook)\n",
    "\n",
    "if not isdir(cifar10_dataset_folder_path):\n",
    "    with tarfile.open('cifar-10-python.tar.gz') as tar:\n",
    "        tar.extractall()\n",
    "        tar.close()\n",
    "\n",
    "\n",
    "tests.test_folder_path(cifar10_dataset_folder_path)"
   ]
  },
  {
   "cell_type": "markdown",
   "metadata": {
    "deletable": true,
    "editable": true
   },
   "source": [
    "## Explore the Data\n",
    "The dataset is broken into batches to prevent your machine from running out of memory.  The CIFAR-10 dataset consists of 5 batches, named `data_batch_1`, `data_batch_2`, etc.. Each batch contains the labels and images that are one of the following:\n",
    "* airplane\n",
    "* automobile\n",
    "* bird\n",
    "* cat\n",
    "* deer\n",
    "* dog\n",
    "* frog\n",
    "* horse\n",
    "* ship\n",
    "* truck\n",
    "\n",
    "Understanding a dataset is part of making predictions on the data.  Play around with the code cell below by changing the `batch_id` and `sample_id`. The `batch_id` is the id for a batch (1-5). The `sample_id` is the id for a image and label pair in the batch.\n",
    "\n",
    "Ask yourself \"What are all possible labels?\", \"What is the range of values for the image data?\", \"Are the labels in order or random?\".  Answers to questions like these will help you preprocess the data and end up with better predictions."
   ]
  },
  {
   "cell_type": "code",
   "execution_count": 2,
   "metadata": {
    "collapsed": false,
    "deletable": true,
    "editable": true
   },
   "outputs": [
    {
     "name": "stdout",
     "output_type": "stream",
     "text": [
      "\n",
      "Stats of batch 1:\n",
      "Samples: 10000\n",
      "Label Counts: {0: 1005, 1: 974, 2: 1032, 3: 1016, 4: 999, 5: 937, 6: 1030, 7: 1001, 8: 1025, 9: 981}\n",
      "First 20 Labels: [6, 9, 9, 4, 1, 1, 2, 7, 8, 3, 4, 7, 7, 2, 9, 9, 9, 3, 2, 6]\n",
      "\n",
      "Example of Image 5:\n",
      "Image - Min Value: 0 Max Value: 252\n",
      "Image - Shape: (32, 32, 3)\n",
      "Label - Label Id: 1 Name: automobile\n"
     ]
    },
    {
     "data": {
      "image/png": "[encoded data removed]",
      "text/plain": [
       "<matplotlib.figure.Figure at 0x7f8f480c1d68>"
      ]
     },
     "metadata": {
      "image/png": {
       "height": 250,
       "width": 253
      }
     },
     "output_type": "display_data"
    }
   ],
   "source": [
    "%matplotlib inline\n",
    "%config InlineBackend.figure_format = 'retina'\n",
    "\n",
    "import helper\n",
    "import numpy as np\n",
    "\n",
    "# Explore the dataset\n",
    "batch_id = 1\n",
    "sample_id = 5\n",
    "helper.display_stats(cifar10_dataset_folder_path, batch_id, sample_id)"
   ]
  },
  {
   "cell_type": "markdown",
   "metadata": {
    "deletable": true,
    "editable": true
   },
   "source": [
    "## Implement Preprocess Functions\n",
    "### Normalize\n",
    "In the cell below, implement the `normalize` function to take in image data, `x`, and return it as a normalized Numpy array. The values should be in the range of 0 to 1, inclusive.  The return object should be the same shape as `x`."
   ]
  },
  {
   "cell_type": "code",
   "execution_count": 3,
   "metadata": {
    "collapsed": false,
    "deletable": true,
    "editable": true
   },
   "outputs": [
    {
     "name": "stdout",
     "output_type": "stream",
     "text": [
      "Tests Passed\n"
     ]
    }
   ],
   "source": [
    "def normalize(x):\n",
    "    \"\"\"\n",
    "    Normalize a list of sample image data in the range of 0 to 1\n",
    "    : x: List of image data.  The image shape is (32, 32, 3)\n",
    "    : return: Numpy array of normalize data\n",
    "    \"\"\"\n",
    "    return x / x.max()\n",
    "\n",
    "\n",
    "\"\"\"\n",
    "DON'T MODIFY ANYTHING IN THIS CELL THAT IS BELOW THIS LINE\n",
    "\"\"\"\n",
    "tests.test_normalize(normalize)"
   ]
  },
  {
   "cell_type": "markdown",
   "metadata": {
    "deletable": true,
    "editable": true
   },
   "source": [
    "### One-hot encode\n",
    "Just like the previous code cell, you'll be implementing a function for preprocessing.  This time, you'll implement the `one_hot_encode` function. The input, `x`, are a list of labels.  Implement the function to return the list of labels as One-Hot encoded Numpy array.  The possible values for labels are 0 to 9. The one-hot encoding function should return the same encoding for each value between each call to `one_hot_encode`.  Make sure to save the map of encodings outside the function.\n",
    "\n",
    "Hint: Don't reinvent the wheel."
   ]
  },
  {
   "cell_type": "code",
   "execution_count": 4,
   "metadata": {
    "collapsed": false,
    "deletable": true,
    "editable": true
   },
   "outputs": [
    {
     "name": "stdout",
     "output_type": "stream",
     "text": [
      "Tests Passed\n"
     ]
    }
   ],
   "source": [
    "one_hot_encodings = {n: np.array(\n",
    "    [1 if m == n else 0 for m in range(10)]) for n in range(10)}\n",
    "\n",
    "def one_hot_encode(x):\n",
    "    \"\"\"\n",
    "    One hot encode a list of sample labels. Return a one-hot encoded vector for each label.\n",
    "    : x: List of sample Labels\n",
    "    : return: Numpy array of one-hot encoded labels\n",
    "    \"\"\"\n",
    "    return np.array([one_hot_encodings[n] for n in x])\n",
    "\n",
    "\n",
    "\"\"\"\n",
    "DON'T MODIFY ANYTHING IN THIS CELL THAT IS BELOW THIS LINE\n",
    "\"\"\"\n",
    "tests.test_one_hot_encode(one_hot_encode)"
   ]
  },
  {
   "cell_type": "markdown",
   "metadata": {
    "deletable": true,
    "editable": true
   },
   "source": [
    "### Randomize Data\n",
    "As you saw from exploring the data above, the order of the samples are randomized.  It doesn't hurt to randomize it again, but you don't need to for this dataset."
   ]
  },
  {
   "cell_type": "markdown",
   "metadata": {
    "deletable": true,
    "editable": true
   },
   "source": [
    "## Preprocess all the data and save it\n",
    "Running the code cell below will preprocess all the CIFAR-10 data and save it to file. The code below also uses 10% of the training data for validation."
   ]
  },
  {
   "cell_type": "code",
   "execution_count": 5,
   "metadata": {
    "collapsed": false,
    "deletable": true,
    "editable": true
   },
   "outputs": [],
   "source": [
    "\"\"\"\n",
    "DON'T MODIFY ANYTHING IN THIS CELL\n",
    "\"\"\"\n",
    "# Preprocess Training, Validation, and Testing Data\n",
    "helper.preprocess_and_save_data(cifar10_dataset_folder_path, normalize, one_hot_encode)"
   ]
  },
  {
   "cell_type": "markdown",
   "metadata": {
    "deletable": true,
    "editable": true
   },
   "source": [
    "# Check Point\n",
    "This is your first checkpoint.  If you ever decide to come back to this notebook or have to restart the notebook, you can start from here.  The preprocessed data has been saved to disk."
   ]
  },
  {
   "cell_type": "code",
   "execution_count": 6,
   "metadata": {
    "collapsed": true,
    "deletable": true,
    "editable": true
   },
   "outputs": [],
   "source": [
    "\"\"\"\n",
    "DON'T MODIFY ANYTHING IN THIS CELL\n",
    "\"\"\"\n",
    "import pickle\n",
    "import problem_unittests as tests\n",
    "import helper\n",
    "\n",
    "# Load the Preprocessed Validation data\n",
    "valid_features, valid_labels = pickle.load(open('preprocess_validation.p', mode='rb'))"
   ]
  },
  {
   "cell_type": "markdown",
   "metadata": {
    "deletable": true,
    "editable": true
   },
   "source": [
    "## Build the network\n",
    "For the neural network, you'll build each layer into a function.  Most of the code you've seen has been outside of functions. To test your code more thoroughly, we require that you put each layer in a function.  This allows us to give you better feedback and test for simple mistakes using our unittests before you submit your project.\n",
    "\n",
    "If you're finding it hard to dedicate enough time for this course a week, we've provided a small shortcut to this part of the project. In the next couple of problems, you'll have the option to use [TensorFlow Layers](https://www.tensorflow.org/api_docs/python/tf/layers) or [TensorFlow Layers (contrib)](https://www.tensorflow.org/api_guides/python/contrib.layers) to build each layer, except \"Convolutional & Max Pooling\" layer.  TF Layers is similar to Keras's and TFLearn's abstraction to layers, so it's easy to pickup.\n",
    "\n",
    "If you would like to get the most of this course, try to solve all the problems without TF Layers.  Let's begin!\n",
    "### Input\n",
    "The neural network needs to read the image data, one-hot encoded labels, and dropout keep probability. Implement the following functions\n",
    "* Implement `neural_net_image_input`\n",
    " * Return a [TF Placeholder](https://www.tensorflow.org/api_docs/python/tf/placeholder)\n",
    " * Set the shape using `image_shape` with batch size set to `None`.\n",
    " * Name the TensorFlow placeholder \"x\" using the TensorFlow `name` parameter in the [TF Placeholder](https://www.tensorflow.org/api_docs/python/tf/placeholder).\n",
    "* Implement `neural_net_label_input`\n",
    " * Return a [TF Placeholder](https://www.tensorflow.org/api_docs/python/tf/placeholder)\n",
    " * Set the shape using `n_classes` with batch size set to `None`.\n",
    " * Name the TensorFlow placeholder \"y\" using the TensorFlow `name` parameter in the [TF Placeholder](https://www.tensorflow.org/api_docs/python/tf/placeholder).\n",
    "* Implement `neural_net_keep_prob_input`\n",
    " * Return a [TF Placeholder](https://www.tensorflow.org/api_docs/python/tf/placeholder) for dropout keep probability.\n",
    " * Name the TensorFlow placeholder \"keep_prob\" using the TensorFlow `name` parameter in the [TF Placeholder](https://www.tensorflow.org/api_docs/python/tf/placeholder).\n",
    "\n",
    "These names will be used at the end of the project to load your saved model.\n",
    "\n",
    "Note: `None` for shapes in TensorFlow allow for a dynamic size."
   ]
  },
  {
   "cell_type": "code",
   "execution_count": 7,
   "metadata": {
    "collapsed": false,
    "deletable": true,
    "editable": true
   },
   "outputs": [
    {
     "name": "stdout",
     "output_type": "stream",
     "text": [
      "Image Input Tests Passed.\n",
      "Label Input Tests Passed.\n",
      "Keep Prob Tests Passed.\n"
     ]
    }
   ],
   "source": [
    "import tensorflow as tf\n",
    "\n",
    "def neural_net_image_input(image_shape):\n",
    "    \"\"\"\n",
    "    Return a Tensor for a bach of image input\n",
    "    : image_shape: Shape of the images\n",
    "    : return: Tensor for image input.\n",
    "    \"\"\"\n",
    "    return tf.placeholder(tf.float32, shape=[None, *image_shape], name='x')\n",
    "\n",
    "\n",
    "def neural_net_label_input(n_classes):\n",
    "    \"\"\"\n",
    "    Return a Tensor for a batch of label input\n",
    "    : n_classes: Number of classes\n",
    "    : return: Tensor for label input.\n",
    "    \"\"\"\n",
    "    return tf.placeholder(tf.float32, shape=[None, n_classes], name='y')\n",
    "\n",
    "\n",
    "def neural_net_keep_prob_input():\n",
    "    \"\"\"\n",
    "    Return a Tensor for keep probability\n",
    "    : return: Tensor for keep probability.\n",
    "    \"\"\"\n",
    "    return tf.placeholder(tf.float32, name='keep_prob')\n",
    "\n",
    "\n",
    "\"\"\"\n",
    "DON'T MODIFY ANYTHING IN THIS CELL THAT IS BELOW THIS LINE\n",
    "\"\"\"\n",
    "tf.reset_default_graph()\n",
    "tests.test_nn_image_inputs(neural_net_image_input)\n",
    "tests.test_nn_label_inputs(neural_net_label_input)\n",
    "tests.test_nn_keep_prob_inputs(neural_net_keep_prob_input)"
   ]
  },
  {
   "cell_type": "markdown",
   "metadata": {
    "deletable": true,
    "editable": true
   },
   "source": [
    "### Convolution and Max Pooling Layer\n",
    "Convolution layers have a lot of success with images. For this code cell, you should implement the function `conv2d_maxpool` to apply convolution then max pooling:\n",
    "* Create the weight and bias using `conv_ksize`, `conv_num_outputs` and the shape of `x_tensor`.\n",
    "* Apply a convolution to `x_tensor` using weight and `conv_strides`.\n",
    " * We recommend you use same padding, but you're welcome to use any padding.\n",
    "* Add bias\n",
    "* Add a nonlinear activation to the convolution.\n",
    "* Apply Max Pooling using `pool_ksize` and `pool_strides`.\n",
    " * We recommend you use same padding, but you're welcome to use any padding.\n",
    "\n",
    "Note: You **can't** use [TensorFlow Layers](https://www.tensorflow.org/api_docs/python/tf/layers) or [TensorFlow Layers (contrib)](https://www.tensorflow.org/api_guides/python/contrib.layers) for this layer.  You're free to use any TensorFlow package for all the other layers."
   ]
  },
  {
   "cell_type": "code",
   "execution_count": 8,
   "metadata": {
    "collapsed": false,
    "deletable": true,
    "editable": true
   },
   "outputs": [
    {
     "name": "stdout",
     "output_type": "stream",
     "text": [
      "Tests Passed\n"
     ]
    }
   ],
   "source": [
    "def conv2d_maxpool(x_tensor, conv_num_outputs, conv_ksize, conv_strides, pool_ksize, pool_strides):\n",
    "    \"\"\"\n",
    "    Apply convolution then max pooling to x_tensor\n",
    "    :param x_tensor: TensorFlow Tensor\n",
    "    :param conv_num_outputs: Number of outputs for the convolutional layer\n",
    "    :param conv_strides: Stride 2-D Tuple for convolution\n",
    "    :param pool_ksize: kernal size 2-D Tuple for pool\n",
    "    :param pool_strides: Stride 2-D Tuple for pool\n",
    "    : return: A tensor that represents convolution and max pooling of x_tensor\n",
    "    \"\"\"\n",
    "    w = tf.Variable(tf.truncated_normal(\n",
    "        [*conv_ksize, x_tensor.get_shape()[-1].value, conv_num_outputs], stddev=0.1))\n",
    "    b = tf.Variable(tf.constant(0.05, shape=[conv_num_outputs]))\n",
    "\n",
    "    x_tensor = tf.nn.conv2d(x_tensor, w, strides=[\n",
    "                            1, *conv_strides, 1], padding='SAME')\n",
    "    x_tensor = tf.nn.bias_add(x_tensor, b)\n",
    "    x_tensor = tf.nn.relu(x_tensor)\n",
    "    x_tensor = tf.nn.max_pool(x_tensor, ksize=[\n",
    "                              1, *pool_ksize, 1], strides=[1, *pool_strides, 1], padding='SAME')\n",
    "    \n",
    "    return x_tensor\n",
    "\n",
    "\n",
    "\"\"\"\n",
    "DON'T MODIFY ANYTHING IN THIS CELL THAT IS BELOW THIS LINE\n",
    "\"\"\"\n",
    "tests.test_con_pool(conv2d_maxpool)"
   ]
  },
  {
   "cell_type": "markdown",
   "metadata": {
    "deletable": true,
    "editable": true
   },
   "source": [
    "### Flatten Layer\n",
    "Implement the `flatten` function to change the dimension of `x_tensor` from a 4-D tensor to a 2-D tensor.  The output should be the shape (*Batch Size*, *Flattened Image Size*). You can use [TensorFlow Layers](https://www.tensorflow.org/api_docs/python/tf/layers) or [TensorFlow Layers (contrib)](https://www.tensorflow.org/api_guides/python/contrib.layers) for this layer."
   ]
  },
  {
   "cell_type": "code",
   "execution_count": 9,
   "metadata": {
    "collapsed": false,
    "deletable": true,
    "editable": true
   },
   "outputs": [
    {
     "name": "stdout",
     "output_type": "stream",
     "text": [
      "Tests Passed\n"
     ]
    }
   ],
   "source": [
    "def flatten(x_tensor):\n",
    "    \"\"\"\n",
    "    Flatten x_tensor to (Batch Size, Flattened Image Size)\n",
    "    : x_tensor: A tensor of size (Batch Size, ...), where ... are the image dimensions.\n",
    "    : return: A tensor of size (Batch Size, Flattened Image Size).\n",
    "    \"\"\"\n",
    "    element_count = np.array(x_tensor.get_shape()[1:]).prod().value\n",
    "    return tf.reshape(x_tensor, [-1, element_count])\n",
    "\n",
    "\n",
    "\"\"\"\n",
    "DON'T MODIFY ANYTHING IN THIS CELL THAT IS BELOW THIS LINE\n",
    "\"\"\"\n",
    "tests.test_flatten(flatten)"
   ]
  },
  {
   "cell_type": "markdown",
   "metadata": {
    "deletable": true,
    "editable": true
   },
   "source": [
    "### Fully-Connected Layer\n",
    "Implement the `fully_conn` function to apply a fully connected layer to `x_tensor` with the shape (*Batch Size*, *num_outputs*). You can use [TensorFlow Layers](https://www.tensorflow.org/api_docs/python/tf/layers) or [TensorFlow Layers (contrib)](https://www.tensorflow.org/api_guides/python/contrib.layers) for this layer."
   ]
  },
  {
   "cell_type": "code",
   "execution_count": 10,
   "metadata": {
    "collapsed": false,
    "deletable": true,
    "editable": true
   },
   "outputs": [
    {
     "name": "stdout",
     "output_type": "stream",
     "text": [
      "Tests Passed\n"
     ]
    }
   ],
   "source": [
    "def fully_conn(x_tensor, num_outputs):\n",
    "    \"\"\"\n",
    "    Apply a fully connected layer to x_tensor using weight and bias\n",
    "    : x_tensor: A 2-D tensor where the first dimension is batch size.\n",
    "    : num_outputs: The number of output that the new tensor should be.\n",
    "    : return: A 2-D tensor where the second dimension is num_outputs.\n",
    "    \"\"\"\n",
    "    w = tf.Variable(tf.truncated_normal([x_tensor.get_shape()[-1].value, num_outputs], stddev=0.1))\n",
    "    b = tf.Variable(tf.constant(0.05, shape=[num_outputs]))\n",
    "\n",
    "    fc = tf.add(tf.matmul(x_tensor, w), b)\n",
    "    fc = tf.nn.relu(fc)\n",
    "    return fc\n",
    "\n",
    "\n",
    "\"\"\"\n",
    "DON'T MODIFY ANYTHING IN THIS CELL THAT IS BELOW THIS LINE\n",
    "\"\"\"\n",
    "tests.test_fully_conn(fully_conn)"
   ]
  },
  {
   "cell_type": "markdown",
   "metadata": {
    "deletable": true,
    "editable": true
   },
   "source": [
    "### Output Layer\n",
    "Implement the `output` function to apply a fully connected layer to `x_tensor` with the shape (*Batch Size*, *num_outputs*). You can use [TensorFlow Layers](https://www.tensorflow.org/api_docs/python/tf/layers) or [TensorFlow Layers (contrib)](https://www.tensorflow.org/api_guides/python/contrib.layers) for this layer.\n",
    "\n",
    "Note: Activation, softmax, or cross entropy shouldn't be applied to this."
   ]
  },
  {
   "cell_type": "code",
   "execution_count": 11,
   "metadata": {
    "collapsed": false,
    "deletable": true,
    "editable": true
   },
   "outputs": [
    {
     "name": "stdout",
     "output_type": "stream",
     "text": [
      "Tests Passed\n"
     ]
    }
   ],
   "source": [
    "def output(x_tensor, num_outputs):\n",
    "    \"\"\"\n",
    "    Apply a output layer to x_tensor using weight and bias\n",
    "    : x_tensor: A 2-D tensor where the first dimension is batch size.\n",
    "    : num_outputs: The number of output that the new tensor should be.\n",
    "    : return: A 2-D tensor where the second dimension is num_outputs.\n",
    "    \"\"\"\n",
    "    w = tf.Variable(tf.truncated_normal([x_tensor.shape[-1].value, num_outputs], stddev=0.1))\n",
    "    b = tf.Variable(tf.constant(0.05, shape=[num_outputs]))\n",
    "\n",
    "    output_layer = tf.add(tf.matmul(x_tensor, w), b)\n",
    "    return output_layer\n",
    "\n",
    "\n",
    "\"\"\"\n",
    "DON'T MODIFY ANYTHING IN THIS CELL THAT IS BELOW THIS LINE\n",
    "\"\"\"\n",
    "tests.test_output(output)"
   ]
  },
  {
   "cell_type": "markdown",
   "metadata": {
    "deletable": true,
    "editable": true
   },
   "source": [
    "### Create Convolutional Model\n",
    "Implement the function `conv_net` to create a convolutional neural network model. The function takes in a batch of images, `x`, and outputs logits.  Use the layers you created above to create this model:\n",
    "\n",
    "* Apply 1, 2, or 3 Convolution and Max Pool layers\n",
    "* Apply a Flatten Layer\n",
    "* Apply 1, 2, or 3 Fully Connected Layers\n",
    "* Apply an Output Layer\n",
    "* Return the output\n",
    "* Apply [TensorFlow's Dropout](https://www.tensorflow.org/api_docs/python/tf/nn/dropout) to one or more layers in the model using `keep_prob`. "
   ]
  },
  {
   "cell_type": "code",
   "execution_count": 12,
   "metadata": {
    "collapsed": false,
    "deletable": true,
    "editable": true,
    "scrolled": true
   },
   "outputs": [
    {
     "name": "stdout",
     "output_type": "stream",
     "text": [
      "Neural Network Built!\n"
     ]
    }
   ],
   "source": [
    "def conv_net(x, keep_prob):\n",
    "    \"\"\"\n",
    "    Create a convolutional neural network model\n",
    "    : x: Placeholder tensor that holds image data.\n",
    "    : keep_prob: Placeholder tensor that hold dropout keep probability.\n",
    "    : return: Tensor that represents logits\n",
    "    \"\"\"\n",
    "    # TODO: Apply 1, 2, or 3 Convolution and Max Pool layers\n",
    "    #    Play around with different number of outputs, kernel size and stride\n",
    "    # Function Definition from Above:\n",
    "    #    conv2d_maxpool(x_tensor, conv_num_outputs, conv_ksize, conv_strides, pool_ksize, pool_strides)\n",
    "\n",
    "    x = conv2d_maxpool(x, 32, [5, 5], [1, 1], [2, 2], [1, 1])\n",
    "\n",
    "    # TODO: Apply a Flatten Layer\n",
    "    # Function Definition from Above:\n",
    "    #   flatten(x_tensor)\n",
    "\n",
    "    x = flatten(x)\n",
    "\n",
    "    # TODO: Apply 1, 2, or 3 Fully Connected Layers\n",
    "    #    Play around with different number of outputs\n",
    "    # Function Definition from Above:\n",
    "    #   fully_conn(x_tensor, num_outputs)\n",
    "\n",
    "    x = fully_conn(x, 200)\n",
    "    x = tf.nn.dropout(x, keep_prob)\n",
    "    x = fully_conn(x, 25)\n",
    "    x = tf.nn.dropout(x, keep_prob)\n",
    "\n",
    "    # TODO: Apply an Output Layer\n",
    "    #    Set this to the number of classes\n",
    "    # Function Definition from Above:\n",
    "    #   output(x_tensor, num_outputs)\n",
    "\n",
    "    # TODO: return output\n",
    "    return output(x, 10)\n",
    "\n",
    "\n",
    "\"\"\"\n",
    "DON'T MODIFY ANYTHING IN THIS CELL THAT IS BELOW THIS LINE\n",
    "\"\"\"\n",
    "\n",
    "##############################\n",
    "## Build the Neural Network ##\n",
    "##############################\n",
    "\n",
    "# Remove previous weights, bias, inputs, etc..\n",
    "tf.reset_default_graph()\n",
    "\n",
    "# Inputs\n",
    "x = neural_net_image_input((32, 32, 3))\n",
    "y = neural_net_label_input(10)\n",
    "keep_prob = neural_net_keep_prob_input()\n",
    "\n",
    "# Model\n",
    "logits = conv_net(x, keep_prob)\n",
    "\n",
    "# Name logits Tensor, so that is can be loaded from disk after training\n",
    "logits = tf.identity(logits, name='logits')\n",
    "\n",
    "# Loss and Optimizer\n",
    "cost = tf.reduce_mean(tf.nn.softmax_cross_entropy_with_logits(logits=logits, labels=y))\n",
    "optimizer = tf.train.AdamOptimizer().minimize(cost)\n",
    "\n",
    "# Accuracy\n",
    "correct_pred = tf.equal(tf.argmax(logits, 1), tf.argmax(y, 1))\n",
    "accuracy = tf.reduce_mean(tf.cast(correct_pred, tf.float32), name='accuracy')\n",
    "\n",
    "tests.test_conv_net(conv_net)"
   ]
  },
  {
   "cell_type": "markdown",
   "metadata": {
    "deletable": true,
    "editable": true
   },
   "source": [
    "## Train the Neural Network\n",
    "### Single Optimization\n",
    "Implement the function `train_neural_network` to do a single optimization.  The optimization should use `optimizer` to optimize in `session` with a `feed_dict` of the following:\n",
    "* `x` for image input\n",
    "* `y` for labels\n",
    "* `keep_prob` for keep probability for dropout\n",
    "\n",
    "This function will be called for each batch, so `tf.global_variables_initializer()` has already been called.\n",
    "\n",
    "Note: Nothing needs to be returned. This function is only optimizing the neural network."
   ]
  },
  {
   "cell_type": "code",
   "execution_count": 13,
   "metadata": {
    "collapsed": false,
    "deletable": true,
    "editable": true
   },
   "outputs": [
    {
     "name": "stdout",
     "output_type": "stream",
     "text": [
      "Tests Passed\n"
     ]
    }
   ],
   "source": [
    "def train_neural_network(session, optimizer, keep_probability, feature_batch, label_batch):\n",
    "    \"\"\"\n",
    "    Optimize the session on a batch of images and labels\n",
    "    : session: Current TensorFlow session\n",
    "    : optimizer: TensorFlow optimizer function\n",
    "    : keep_probability: keep probability\n",
    "    : feature_batch: Batch of Numpy image data\n",
    "    : label_batch: Batch of Numpy label data\n",
    "    \"\"\"\n",
    "    session.run(optimizer, feed_dict={\n",
    "                x: feature_batch, y: label_batch, keep_prob: keep_probability})\n",
    "\n",
    "\n",
    "\"\"\"\n",
    "DON'T MODIFY ANYTHING IN THIS CELL THAT IS BELOW THIS LINE\n",
    "\"\"\"\n",
    "tests.test_train_nn(train_neural_network)"
   ]
  },
  {
   "cell_type": "markdown",
   "metadata": {
    "deletable": true,
    "editable": true
   },
   "source": [
    "### Show Stats\n",
    "Implement the function `print_stats` to print loss and validation accuracy.  Use the global variables `valid_features` and `valid_labels` to calculate validation accuracy.  Use a keep probability of `1.0` to calculate the loss and validation accuracy."
   ]
  },
  {
   "cell_type": "code",
   "execution_count": 14,
   "metadata": {
    "collapsed": false,
    "deletable": true,
    "editable": true
   },
   "outputs": [],
   "source": [
    "def print_stats(session, feature_batch, label_batch, cost, accuracy):\n",
    "    \"\"\"\n",
    "    Print information about loss and validation accuracy\n",
    "    : session: Current TensorFlow session\n",
    "    : feature_batch: Batch of Numpy image data\n",
    "    : label_batch: Batch of Numpy label data\n",
    "    : cost: TensorFlow cost function\n",
    "    : accuracy: TensorFlow accuracy function\n",
    "    \"\"\"\n",
    "    loss = session.run(\n",
    "        cost, feed_dict={x: feature_batch, y: label_batch, keep_prob: 1})\n",
    "    validation_accuracy = session.run(\n",
    "        accuracy, feed_dict={x: valid_features, y: valid_labels, keep_prob: 1})\n",
    "\n",
    "    print('Loss: {:>10.4f} Validation Accuracy: {:.6f}'.format(\n",
    "        loss, validation_accuracy))"
   ]
  },
  {
   "cell_type": "markdown",
   "metadata": {
    "deletable": true,
    "editable": true
   },
   "source": [
    "### Hyperparameters\n",
    "Tune the following parameters:\n",
    "* Set `epochs` to the number of iterations until the network stops learning or start overfitting\n",
    "* Set `batch_size` to the highest number that your machine has memory for.  Most people set them to common sizes of memory:\n",
    " * 64\n",
    " * 128\n",
    " * 256\n",
    " * ...\n",
    "* Set `keep_probability` to the probability of keeping a node using dropout"
   ]
  },
  {
   "cell_type": "code",
   "execution_count": 15,
   "metadata": {
    "collapsed": true,
    "deletable": true,
    "editable": true
   },
   "outputs": [],
   "source": [
    "# TODO: Tune Parameters\n",
    "epochs = 25\n",
    "batch_size = 128\n",
    "keep_probability = 0.5"
   ]
  },
  {
   "cell_type": "markdown",
   "metadata": {
    "deletable": true,
    "editable": true
   },
   "source": [
    "### Train on a Single CIFAR-10 Batch\n",
    "Instead of training the neural network on all the CIFAR-10 batches of data, let's use a single batch. This should save time while you iterate on the model to get a better accuracy.  Once the final validation accuracy is 50% or greater, run the model on all the data in the next section."
   ]
  },
  {
   "cell_type": "code",
   "execution_count": 16,
   "metadata": {
    "collapsed": false,
    "deletable": true,
    "editable": true
   },
   "outputs": [
    {
     "name": "stdout",
     "output_type": "stream",
     "text": [
      "Checking the Training on a Single Batch...\n",
      "Epoch  1, CIFAR-10 Batch 1:  Loss:     2.2701 Validation Accuracy: 0.155600\n",
      "Epoch  2, CIFAR-10 Batch 1:  Loss:     2.0916 Validation Accuracy: 0.284400\n",
      "Epoch  3, CIFAR-10 Batch 1:  Loss:     1.9138 Validation Accuracy: 0.381600\n",
      "Epoch  4, CIFAR-10 Batch 1:  Loss:     1.7174 Validation Accuracy: 0.406000\n",
      "Epoch  5, CIFAR-10 Batch 1:  Loss:     1.6093 Validation Accuracy: 0.427000\n",
      "Epoch  6, CIFAR-10 Batch 1:  Loss:     1.4467 Validation Accuracy: 0.443000\n",
      "Epoch  7, CIFAR-10 Batch 1:  Loss:     1.3669 Validation Accuracy: 0.443200\n",
      "Epoch  8, CIFAR-10 Batch 1:  Loss:     1.2416 Validation Accuracy: 0.459200\n",
      "Epoch  9, CIFAR-10 Batch 1:  Loss:     1.1294 Validation Accuracy: 0.479600\n",
      "Epoch 10, CIFAR-10 Batch 1:  Loss:     1.0852 Validation Accuracy: 0.468800\n",
      "Epoch 11, CIFAR-10 Batch 1:  Loss:     1.0400 Validation Accuracy: 0.477600\n",
      "Epoch 12, CIFAR-10 Batch 1:  Loss:     0.9326 Validation Accuracy: 0.496000\n",
      "Epoch 13, CIFAR-10 Batch 1:  Loss:     0.9145 Validation Accuracy: 0.487800\n",
      "Epoch 14, CIFAR-10 Batch 1:  Loss:     0.8528 Validation Accuracy: 0.489000\n",
      "Epoch 15, CIFAR-10 Batch 1:  Loss:     0.8090 Validation Accuracy: 0.502600\n",
      "Epoch 16, CIFAR-10 Batch 1:  Loss:     0.7594 Validation Accuracy: 0.515600\n",
      "Epoch 17, CIFAR-10 Batch 1:  Loss:     0.7017 Validation Accuracy: 0.513000\n",
      "Epoch 18, CIFAR-10 Batch 1:  Loss:     0.6933 Validation Accuracy: 0.525400\n",
      "Epoch 19, CIFAR-10 Batch 1:  Loss:     0.6912 Validation Accuracy: 0.521600\n",
      "Epoch 20, CIFAR-10 Batch 1:  Loss:     0.6352 Validation Accuracy: 0.518200\n",
      "Epoch 21, CIFAR-10 Batch 1:  Loss:     0.5997 Validation Accuracy: 0.528000\n",
      "Epoch 22, CIFAR-10 Batch 1:  Loss:     0.5920 Validation Accuracy: 0.526200\n",
      "Epoch 23, CIFAR-10 Batch 1:  Loss:     0.5349 Validation Accuracy: 0.521200\n",
      "Epoch 24, CIFAR-10 Batch 1:  Loss:     0.5338 Validation Accuracy: 0.518200\n",
      "Epoch 25, CIFAR-10 Batch 1:  Loss:     0.4981 Validation Accuracy: 0.534400\n"
     ]
    }
   ],
   "source": [
    "\"\"\"\n",
    "DON'T MODIFY ANYTHING IN THIS CELL\n",
    "\"\"\"\n",
    "print('Checking the Training on a Single Batch...')\n",
    "with tf.Session() as sess:\n",
    "    # Initializing the variables\n",
    "    sess.run(tf.global_variables_initializer())\n",
    "    \n",
    "    # Training cycle\n",
    "    for epoch in range(epochs):\n",
    "        batch_i = 1\n",
    "        for batch_features, batch_labels in helper.load_preprocess_training_batch(batch_i, batch_size):\n",
    "            train_neural_network(sess, optimizer, keep_probability, batch_features, batch_labels)\n",
    "        print('Epoch {:>2}, CIFAR-10 Batch {}:  '.format(epoch + 1, batch_i), end='')\n",
    "        print_stats(sess, batch_features, batch_labels, cost, accuracy)"
   ]
  },
  {
   "cell_type": "markdown",
   "metadata": {
    "deletable": true,
    "editable": true
   },
   "source": [
    "### Fully Train the Model\n",
    "Now that you got a good accuracy with a single CIFAR-10 batch, try it with all five batches."
   ]
  },
  {
   "cell_type": "code",
   "execution_count": 17,
   "metadata": {
    "collapsed": false,
    "deletable": true,
    "editable": true
   },
   "outputs": [
    {
     "name": "stdout",
     "output_type": "stream",
     "text": [
      "Training...\n",
      "Epoch  1, CIFAR-10 Batch 1:  Loss:     2.2705 Validation Accuracy: 0.181000\n",
      "Epoch  1, CIFAR-10 Batch 2:  Loss:     2.0839 Validation Accuracy: 0.328000\n",
      "Epoch  1, CIFAR-10 Batch 3:  Loss:     1.7750 Validation Accuracy: 0.376800\n",
      "Epoch  1, CIFAR-10 Batch 4:  Loss:     1.7183 Validation Accuracy: 0.396200\n",
      "Epoch  1, CIFAR-10 Batch 5:  Loss:     1.6694 Validation Accuracy: 0.408000\n",
      "Epoch  2, CIFAR-10 Batch 1:  Loss:     1.8455 Validation Accuracy: 0.391400\n",
      "Epoch  2, CIFAR-10 Batch 2:  Loss:     1.7142 Validation Accuracy: 0.432400\n",
      "Epoch  2, CIFAR-10 Batch 3:  Loss:     1.5339 Validation Accuracy: 0.413200\n",
      "Epoch  2, CIFAR-10 Batch 4:  Loss:     1.5848 Validation Accuracy: 0.457400\n",
      "Epoch  2, CIFAR-10 Batch 5:  Loss:     1.4975 Validation Accuracy: 0.456200\n",
      "Epoch  3, CIFAR-10 Batch 1:  Loss:     1.5932 Validation Accuracy: 0.459800\n",
      "Epoch  3, CIFAR-10 Batch 2:  Loss:     1.4841 Validation Accuracy: 0.479200\n",
      "Epoch  3, CIFAR-10 Batch 3:  Loss:     1.2901 Validation Accuracy: 0.461600\n",
      "Epoch  3, CIFAR-10 Batch 4:  Loss:     1.5079 Validation Accuracy: 0.478200\n",
      "Epoch  3, CIFAR-10 Batch 5:  Loss:     1.3353 Validation Accuracy: 0.496800\n",
      "Epoch  4, CIFAR-10 Batch 1:  Loss:     1.4071 Validation Accuracy: 0.503200\n",
      "Epoch  4, CIFAR-10 Batch 2:  Loss:     1.3373 Validation Accuracy: 0.506600\n",
      "Epoch  4, CIFAR-10 Batch 3:  Loss:     1.1202 Validation Accuracy: 0.499000\n",
      "Epoch  4, CIFAR-10 Batch 4:  Loss:     1.3995 Validation Accuracy: 0.526800\n",
      "Epoch  4, CIFAR-10 Batch 5:  Loss:     1.1601 Validation Accuracy: 0.526600\n",
      "Epoch  5, CIFAR-10 Batch 1:  Loss:     1.2820 Validation Accuracy: 0.528400\n",
      "Epoch  5, CIFAR-10 Batch 2:  Loss:     1.2430 Validation Accuracy: 0.525000\n",
      "Epoch  5, CIFAR-10 Batch 3:  Loss:     1.0387 Validation Accuracy: 0.540200\n",
      "Epoch  5, CIFAR-10 Batch 4:  Loss:     1.2043 Validation Accuracy: 0.554000\n",
      "Epoch  5, CIFAR-10 Batch 5:  Loss:     1.0512 Validation Accuracy: 0.548000\n",
      "Epoch  6, CIFAR-10 Batch 1:  Loss:     1.2222 Validation Accuracy: 0.529000\n",
      "Epoch  6, CIFAR-10 Batch 2:  Loss:     1.1191 Validation Accuracy: 0.539000\n",
      "Epoch  6, CIFAR-10 Batch 3:  Loss:     0.9191 Validation Accuracy: 0.548600\n",
      "Epoch  6, CIFAR-10 Batch 4:  Loss:     1.0821 Validation Accuracy: 0.551800\n",
      "Epoch  6, CIFAR-10 Batch 5:  Loss:     1.0312 Validation Accuracy: 0.561200\n",
      "Epoch  7, CIFAR-10 Batch 1:  Loss:     1.0786 Validation Accuracy: 0.565800\n",
      "Epoch  7, CIFAR-10 Batch 2:  Loss:     1.0148 Validation Accuracy: 0.552000\n",
      "Epoch  7, CIFAR-10 Batch 3:  Loss:     0.8928 Validation Accuracy: 0.555200\n",
      "Epoch  7, CIFAR-10 Batch 4:  Loss:     0.9833 Validation Accuracy: 0.578200\n",
      "Epoch  7, CIFAR-10 Batch 5:  Loss:     0.8960 Validation Accuracy: 0.578200\n",
      "Epoch  8, CIFAR-10 Batch 1:  Loss:     0.9862 Validation Accuracy: 0.571600\n",
      "Epoch  8, CIFAR-10 Batch 2:  Loss:     0.8841 Validation Accuracy: 0.563600\n",
      "Epoch  8, CIFAR-10 Batch 3:  Loss:     0.7564 Validation Accuracy: 0.564800\n",
      "Epoch  8, CIFAR-10 Batch 4:  Loss:     0.9763 Validation Accuracy: 0.563600\n",
      "Epoch  8, CIFAR-10 Batch 5:  Loss:     0.8833 Validation Accuracy: 0.572000\n",
      "Epoch  9, CIFAR-10 Batch 1:  Loss:     0.9125 Validation Accuracy: 0.582600\n",
      "Epoch  9, CIFAR-10 Batch 2:  Loss:     0.8104 Validation Accuracy: 0.589000\n",
      "Epoch  9, CIFAR-10 Batch 3:  Loss:     0.7824 Validation Accuracy: 0.571800\n",
      "Epoch  9, CIFAR-10 Batch 4:  Loss:     0.8508 Validation Accuracy: 0.587800\n",
      "Epoch  9, CIFAR-10 Batch 5:  Loss:     0.8506 Validation Accuracy: 0.584400\n",
      "Epoch 10, CIFAR-10 Batch 1:  Loss:     0.8190 Validation Accuracy: 0.599800\n",
      "Epoch 10, CIFAR-10 Batch 2:  Loss:     0.7702 Validation Accuracy: 0.597600\n",
      "Epoch 10, CIFAR-10 Batch 3:  Loss:     0.6673 Validation Accuracy: 0.594400\n",
      "Epoch 10, CIFAR-10 Batch 4:  Loss:     0.7938 Validation Accuracy: 0.587000\n",
      "Epoch 10, CIFAR-10 Batch 5:  Loss:     0.7580 Validation Accuracy: 0.600800\n",
      "Epoch 11, CIFAR-10 Batch 1:  Loss:     0.8223 Validation Accuracy: 0.585000\n",
      "Epoch 11, CIFAR-10 Batch 2:  Loss:     0.7216 Validation Accuracy: 0.588800\n",
      "Epoch 11, CIFAR-10 Batch 3:  Loss:     0.6834 Validation Accuracy: 0.592600\n",
      "Epoch 11, CIFAR-10 Batch 4:  Loss:     0.7686 Validation Accuracy: 0.593000\n",
      "Epoch 11, CIFAR-10 Batch 5:  Loss:     0.7437 Validation Accuracy: 0.589200\n",
      "Epoch 12, CIFAR-10 Batch 1:  Loss:     0.7926 Validation Accuracy: 0.606400\n",
      "Epoch 12, CIFAR-10 Batch 2:  Loss:     0.7207 Validation Accuracy: 0.597800\n",
      "Epoch 12, CIFAR-10 Batch 3:  Loss:     0.6173 Validation Accuracy: 0.597400\n",
      "Epoch 12, CIFAR-10 Batch 4:  Loss:     0.6929 Validation Accuracy: 0.599600\n",
      "Epoch 12, CIFAR-10 Batch 5:  Loss:     0.7314 Validation Accuracy: 0.593800\n",
      "Epoch 13, CIFAR-10 Batch 1:  Loss:     0.7106 Validation Accuracy: 0.583400\n",
      "Epoch 13, CIFAR-10 Batch 2:  Loss:     0.7244 Validation Accuracy: 0.600400\n",
      "Epoch 13, CIFAR-10 Batch 3:  Loss:     0.5812 Validation Accuracy: 0.598000\n",
      "Epoch 13, CIFAR-10 Batch 4:  Loss:     0.6400 Validation Accuracy: 0.605200\n",
      "Epoch 13, CIFAR-10 Batch 5:  Loss:     0.7221 Validation Accuracy: 0.599000\n",
      "Epoch 14, CIFAR-10 Batch 1:  Loss:     0.7087 Validation Accuracy: 0.596800\n",
      "Epoch 14, CIFAR-10 Batch 2:  Loss:     0.6411 Validation Accuracy: 0.598800\n",
      "Epoch 14, CIFAR-10 Batch 3:  Loss:     0.5329 Validation Accuracy: 0.598800\n",
      "Epoch 14, CIFAR-10 Batch 4:  Loss:     0.6524 Validation Accuracy: 0.597400\n",
      "Epoch 14, CIFAR-10 Batch 5:  Loss:     0.6374 Validation Accuracy: 0.606800\n",
      "Epoch 15, CIFAR-10 Batch 1:  Loss:     0.6164 Validation Accuracy: 0.594200\n",
      "Epoch 15, CIFAR-10 Batch 2:  Loss:     0.6653 Validation Accuracy: 0.607800\n",
      "Epoch 15, CIFAR-10 Batch 3:  Loss:     0.4783 Validation Accuracy: 0.620600\n",
      "Epoch 15, CIFAR-10 Batch 4:  Loss:     0.5707 Validation Accuracy: 0.618200\n",
      "Epoch 15, CIFAR-10 Batch 5:  Loss:     0.6205 Validation Accuracy: 0.607600\n",
      "Epoch 16, CIFAR-10 Batch 1:  Loss:     0.6216 Validation Accuracy: 0.616000\n",
      "Epoch 16, CIFAR-10 Batch 2:  Loss:     0.6388 Validation Accuracy: 0.599000\n",
      "Epoch 16, CIFAR-10 Batch 3:  Loss:     0.5017 Validation Accuracy: 0.611600\n",
      "Epoch 16, CIFAR-10 Batch 4:  Loss:     0.5451 Validation Accuracy: 0.622800\n",
      "Epoch 16, CIFAR-10 Batch 5:  Loss:     0.6068 Validation Accuracy: 0.617400\n",
      "Epoch 17, CIFAR-10 Batch 1:  Loss:     0.5630 Validation Accuracy: 0.610800\n",
      "Epoch 17, CIFAR-10 Batch 2:  Loss:     0.5643 Validation Accuracy: 0.624400\n",
      "Epoch 17, CIFAR-10 Batch 3:  Loss:     0.4492 Validation Accuracy: 0.607400\n",
      "Epoch 17, CIFAR-10 Batch 4:  Loss:     0.4857 Validation Accuracy: 0.605400\n",
      "Epoch 17, CIFAR-10 Batch 5:  Loss:     0.5523 Validation Accuracy: 0.615000\n",
      "Epoch 18, CIFAR-10 Batch 1:  Loss:     0.5386 Validation Accuracy: 0.616000\n",
      "Epoch 18, CIFAR-10 Batch 2:  Loss:     0.6321 Validation Accuracy: 0.609000\n",
      "Epoch 18, CIFAR-10 Batch 3:  Loss:     0.4158 Validation Accuracy: 0.609000\n",
      "Epoch 18, CIFAR-10 Batch 4:  Loss:     0.5231 Validation Accuracy: 0.619200\n",
      "Epoch 18, CIFAR-10 Batch 5:  Loss:     0.5415 Validation Accuracy: 0.625800\n",
      "Epoch 19, CIFAR-10 Batch 1:  Loss:     0.5234 Validation Accuracy: 0.618400\n",
      "Epoch 19, CIFAR-10 Batch 2:  Loss:     0.5297 Validation Accuracy: 0.624000\n",
      "Epoch 19, CIFAR-10 Batch 3:  Loss:     0.3751 Validation Accuracy: 0.616400\n",
      "Epoch 19, CIFAR-10 Batch 4:  Loss:     0.4567 Validation Accuracy: 0.601600\n",
      "Epoch 19, CIFAR-10 Batch 5:  Loss:     0.5742 Validation Accuracy: 0.630600\n",
      "Epoch 20, CIFAR-10 Batch 1:  Loss:     0.5126 Validation Accuracy: 0.618200\n",
      "Epoch 20, CIFAR-10 Batch 2:  Loss:     0.4887 Validation Accuracy: 0.625000\n",
      "Epoch 20, CIFAR-10 Batch 3:  Loss:     0.3699 Validation Accuracy: 0.624400\n",
      "Epoch 20, CIFAR-10 Batch 4:  Loss:     0.4151 Validation Accuracy: 0.619600\n",
      "Epoch 20, CIFAR-10 Batch 5:  Loss:     0.5070 Validation Accuracy: 0.616400\n",
      "Epoch 21, CIFAR-10 Batch 1:  Loss:     0.4795 Validation Accuracy: 0.618200\n",
      "Epoch 21, CIFAR-10 Batch 2:  Loss:     0.5207 Validation Accuracy: 0.604800\n",
      "Epoch 21, CIFAR-10 Batch 3:  Loss:     0.3550 Validation Accuracy: 0.619600\n",
      "Epoch 21, CIFAR-10 Batch 4:  Loss:     0.4873 Validation Accuracy: 0.614400\n",
      "Epoch 21, CIFAR-10 Batch 5:  Loss:     0.4474 Validation Accuracy: 0.617800\n",
      "Epoch 22, CIFAR-10 Batch 1:  Loss:     0.4555 Validation Accuracy: 0.613600\n",
      "Epoch 22, CIFAR-10 Batch 2:  Loss:     0.4667 Validation Accuracy: 0.627400\n",
      "Epoch 22, CIFAR-10 Batch 3:  Loss:     0.3574 Validation Accuracy: 0.623400\n",
      "Epoch 22, CIFAR-10 Batch 4:  Loss:     0.4437 Validation Accuracy: 0.602400\n",
      "Epoch 22, CIFAR-10 Batch 5:  Loss:     0.4571 Validation Accuracy: 0.624000\n",
      "Epoch 23, CIFAR-10 Batch 1:  Loss:     0.4705 Validation Accuracy: 0.598600\n",
      "Epoch 23, CIFAR-10 Batch 2:  Loss:     0.4344 Validation Accuracy: 0.621600\n",
      "Epoch 23, CIFAR-10 Batch 3:  Loss:     0.3477 Validation Accuracy: 0.611600\n",
      "Epoch 23, CIFAR-10 Batch 4:  Loss:     0.4064 Validation Accuracy: 0.616600\n",
      "Epoch 23, CIFAR-10 Batch 5:  Loss:     0.4627 Validation Accuracy: 0.622200\n",
      "Epoch 24, CIFAR-10 Batch 1:  Loss:     0.4201 Validation Accuracy: 0.620400\n",
      "Epoch 24, CIFAR-10 Batch 2:  Loss:     0.4107 Validation Accuracy: 0.624200\n",
      "Epoch 24, CIFAR-10 Batch 3:  Loss:     0.3203 Validation Accuracy: 0.618800\n",
      "Epoch 24, CIFAR-10 Batch 4:  Loss:     0.3645 Validation Accuracy: 0.632000\n",
      "Epoch 24, CIFAR-10 Batch 5:  Loss:     0.4001 Validation Accuracy: 0.613600\n",
      "Epoch 25, CIFAR-10 Batch 1:  Loss:     0.3788 Validation Accuracy: 0.615400\n",
      "Epoch 25, CIFAR-10 Batch 2:  Loss:     0.4110 Validation Accuracy: 0.626200\n",
      "Epoch 25, CIFAR-10 Batch 3:  Loss:     0.2909 Validation Accuracy: 0.613600\n",
      "Epoch 25, CIFAR-10 Batch 4:  Loss:     0.3618 Validation Accuracy: 0.630800\n",
      "Epoch 25, CIFAR-10 Batch 5:  Loss:     0.3612 Validation Accuracy: 0.622000\n"
     ]
    }
   ],
   "source": [
    "\"\"\"\n",
    "DON'T MODIFY ANYTHING IN THIS CELL\n",
    "\"\"\"\n",
    "save_model_path = './image_classification'\n",
    "\n",
    "print('Training...')\n",
    "with tf.Session() as sess:\n",
    "    # Initializing the variables\n",
    "    sess.run(tf.global_variables_initializer())\n",
    "    \n",
    "    # Training cycle\n",
    "    for epoch in range(epochs):\n",
    "        # Loop over all batches\n",
    "        n_batches = 5\n",
    "        for batch_i in range(1, n_batches + 1):\n",
    "            for batch_features, batch_labels in helper.load_preprocess_training_batch(batch_i, batch_size):\n",
    "                train_neural_network(sess, optimizer, keep_probability, batch_features, batch_labels)\n",
    "            print('Epoch {:>2}, CIFAR-10 Batch {}:  '.format(epoch + 1, batch_i), end='')\n",
    "            print_stats(sess, batch_features, batch_labels, cost, accuracy)\n",
    "            \n",
    "    # Save Model\n",
    "    saver = tf.train.Saver()\n",
    "    save_path = saver.save(sess, save_model_path)"
   ]
  },
  {
   "cell_type": "markdown",
   "metadata": {
    "deletable": true,
    "editable": true
   },
   "source": [
    "# Checkpoint\n",
    "The model has been saved to disk.\n",
    "## Test Model\n",
    "Test your model against the test dataset.  This will be your final accuracy. You should have an accuracy greater than 50%. If you don't, keep tweaking the model architecture and parameters."
   ]
  },
  {
   "cell_type": "code",
   "execution_count": 18,
   "metadata": {
    "collapsed": false,
    "deletable": true,
    "editable": true
   },
   "outputs": [
    {
     "name": "stdout",
     "output_type": "stream",
     "text": [
      "Testing Accuracy: 0.6316257911392406\n",
      "\n"
     ]
    },
    {
     "data": {
      "image/png": "[encoded data removed]",
      "text/plain": [
       "<matplotlib.figure.Figure at 0x7f8f4a3abc50>"
      ]
     },
     "metadata": {
      "image/png": {
       "height": 319,
       "width": 355
      }
     },
     "output_type": "display_data"
    }
   ],
   "source": [
    "\"\"\"\n",
    "DON'T MODIFY ANYTHING IN THIS CELL\n",
    "\"\"\"\n",
    "%matplotlib inline\n",
    "%config InlineBackend.figure_format = 'retina'\n",
    "\n",
    "import tensorflow as tf\n",
    "import pickle\n",
    "import helper\n",
    "import random\n",
    "\n",
    "# Set batch size if not already set\n",
    "try:\n",
    "    if batch_size:\n",
    "        pass\n",
    "except NameError:\n",
    "    batch_size = 64\n",
    "\n",
    "save_model_path = './image_classification'\n",
    "n_samples = 4\n",
    "top_n_predictions = 3\n",
    "\n",
    "def test_model():\n",
    "    \"\"\"\n",
    "    Test the saved model against the test dataset\n",
    "    \"\"\"\n",
    "\n",
    "    test_features, test_labels = pickle.load(open('preprocess_training.p', mode='rb'))\n",
    "    loaded_graph = tf.Graph()\n",
    "\n",
    "    with tf.Session(graph=loaded_graph) as sess:\n",
    "        # Load model\n",
    "        loader = tf.train.import_meta_graph(save_model_path + '.meta')\n",
    "        loader.restore(sess, save_model_path)\n",
    "\n",
    "        # Get Tensors from loaded model\n",
    "        loaded_x = loaded_graph.get_tensor_by_name('x:0')\n",
    "        loaded_y = loaded_graph.get_tensor_by_name('y:0')\n",
    "        loaded_keep_prob = loaded_graph.get_tensor_by_name('keep_prob:0')\n",
    "        loaded_logits = loaded_graph.get_tensor_by_name('logits:0')\n",
    "        loaded_acc = loaded_graph.get_tensor_by_name('accuracy:0')\n",
    "        \n",
    "        # Get accuracy in batches for memory limitations\n",
    "        test_batch_acc_total = 0\n",
    "        test_batch_count = 0\n",
    "        \n",
    "        for train_feature_batch, train_label_batch in helper.batch_features_labels(test_features, test_labels, batch_size):\n",
    "            test_batch_acc_total += sess.run(\n",
    "                loaded_acc,\n",
    "                feed_dict={loaded_x: train_feature_batch, loaded_y: train_label_batch, loaded_keep_prob: 1.0})\n",
    "            test_batch_count += 1\n",
    "\n",
    "        print('Testing Accuracy: {}\\n'.format(test_batch_acc_total/test_batch_count))\n",
    "\n",
    "        # Print Random Samples\n",
    "        random_test_features, random_test_labels = tuple(zip(*random.sample(list(zip(test_features, test_labels)), n_samples)))\n",
    "        random_test_predictions = sess.run(\n",
    "            tf.nn.top_k(tf.nn.softmax(loaded_logits), top_n_predictions),\n",
    "            feed_dict={loaded_x: random_test_features, loaded_y: random_test_labels, loaded_keep_prob: 1.0})\n",
    "        helper.display_image_predictions(random_test_features, random_test_labels, random_test_predictions)\n",
    "\n",
    "\n",
    "test_model()"
   ]
  },
  {
   "cell_type": "markdown",
   "metadata": {
    "deletable": true,
    "editable": true
   },
   "source": [
    "## Why 50-70% Accuracy?\n",
    "You might be wondering why you can't get an accuracy any higher. First things first, 50% isn't bad for a simple CNN.  Pure guessing would get you 10% accuracy. However, you might notice people are getting scores [well above 70%](http://rodrigob.github.io/are_we_there_yet/build/classification_datasets_results.html#43494641522d3130).  That's because we haven't taught you all there is to know about neural networks. We still need to cover a few more techniques.\n",
    "## Submitting This Project\n",
    "When submitting this project, make sure to run all the cells before saving the notebook.  Save the notebook file as \"dlnd_image_classification.ipynb\" and save it as a HTML file under \"File\" -> \"Download as\".  Include the \"helper.py\" and \"problem_unittests.py\" files in your submission."
   ]
  }
 ],
 "metadata": {
  "kernelspec": {
   "display_name": "Python 3",
   "language": "python",
   "name": "python3"
  },
  "language_info": {
   "codemirror_mode": {
    "name": "ipython",
    "version": 3
   },
   "file_extension": ".py",
   "mimetype": "text/x-python",
   "name": "python",
   "nbconvert_exporter": "python",
   "pygments_lexer": "ipython3",
   "version": "3.5.3"
  }
 },
 "nbformat": 4,
 "nbformat_minor": 0
}
